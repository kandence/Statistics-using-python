{
 "cells": [
  {
   "cell_type": "code",
   "execution_count": 53,
   "id": "9c13a68c",
   "metadata": {},
   "outputs": [
    {
     "name": "stdout",
     "output_type": "stream",
     "text": [
      "37.166666666666664\n",
      "40.141831879806716\n",
      "-0.876060334564781\n",
      "-0.7265903248760032\n",
      "-0.5522086469057624\n",
      "-0.12871028612089194\n",
      "0.5189930891971453\n",
      "1.7645765032702938\n",
      "[]\n"
     ]
    }
   ],
   "source": [
    "import statistics\n",
    "li =  [2, 8, 15, 32, 58, 108]\n",
    "out = []\n",
    "x = statistics.mean(li)\n",
    "y = statistics.stdev(li)\n",
    "print(x)\n",
    "print(y)\n",
    "for i in li:\n",
    "    Z = (i-x)/y\n",
    "    print(Z)\n",
    "    if Z>3 or Z<-3:\n",
    "        out.append(i)\n",
    "print(out)\n",
    "    "
   ]
  },
  {
   "cell_type": "code",
   "execution_count": 44,
   "id": "aec06ba4",
   "metadata": {},
   "outputs": [],
   "source": [
    "li = [2, 8, 15, 32, 58, 108]"
   ]
  },
  {
   "cell_type": "code",
   "execution_count": 54,
   "id": "a53a4f25",
   "metadata": {},
   "outputs": [],
   "source": [
    "import numpy as np\n",
    "import pandas as pd\n",
    "out = []\n",
    "def outliers_detection(d):\n",
    "    x = np.mean(d)\n",
    "    y = np.std(d)\n",
    "    for i in d:\n",
    "        Z = (i-x)/y\n",
    "        if np.abs(Z)>3:\n",
    "            out.append(i)\n",
    "    return out"
   ]
  },
  {
   "cell_type": "code",
   "execution_count": 55,
   "id": "9edd0a1a",
   "metadata": {},
   "outputs": [
    {
     "name": "stdout",
     "output_type": "stream",
     "text": [
      "[]\n"
     ]
    }
   ],
   "source": [
    "j= outliers_detection(li)\n",
    "print(j)"
   ]
  },
  {
   "cell_type": "code",
   "execution_count": null,
   "id": "b7c62555",
   "metadata": {},
   "outputs": [],
   "source": []
  }
 ],
 "metadata": {
  "kernelspec": {
   "display_name": "Python 3 (ipykernel)",
   "language": "python",
   "name": "python3"
  },
  "language_info": {
   "codemirror_mode": {
    "name": "ipython",
    "version": 3
   },
   "file_extension": ".py",
   "mimetype": "text/x-python",
   "name": "python",
   "nbconvert_exporter": "python",
   "pygments_lexer": "ipython3",
   "version": "3.9.12"
  }
 },
 "nbformat": 4,
 "nbformat_minor": 5
}
